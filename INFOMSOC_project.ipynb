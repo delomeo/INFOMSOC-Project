{
 "cells": [
  {
   "cell_type": "code",
   "execution_count": null,
   "metadata": {},
   "outputs": [],
   "source": [
    "import numpy as np\n",
    "import matplotlib.pyplot as plt\n",
    "import pandas as pd\n",
    "import seaborn as sns\n",
    "\n",
    "# Sentiment Analysis\n",
    "from textblob import TextBlob\n",
    "\n",
    "# NLP\n",
    "import nltk\n",
    "from nltk.corpus import stopwords, wordnet\n",
    "from nltk.stem import WordNetLemmatizer\n",
    "from nltk.tokenize import word_tokenize\n",
    "from nltk.tokenize import RegexpTokenizer\n",
    "from nltk.stem import PorterStemmer\n",
    "from nltk.stem import WordNetLemmatizer\n",
    "\n",
    "# Word Cloud\n",
    "from wordcloud import WordCloud, STOPWORDS, ImageColorGenerator\n",
    "\n",
    "# Machine Learning\n",
    "from sklearn.feature_extraction.text import CountVectorizer\n",
    "from sklearn.feature_extraction.text import TfidfVectorizer\n",
    "from sklearn.model_selection import train_test_split\n",
    "from sklearn import metrics\n",
    "from sklearn.metrics import classification_report, confusion_matrix, accuracy_score\n",
    "# from sklearn.naive_bayes import MultinomialNB\n",
    "# from sklearn.linear_model import LogisticRegression\n",
    "\n",
    "# Other\n",
    "import os\n",
    "import re\n",
    "import datetime\n",
    "import string\n",
    "import warnings\n",
    "warnings.filterwarnings(\"ignore\")\n",
    "nltk.download('stopwords')\n",
    "nltk.download('wordnet')"
   ]
  },
  {
   "cell_type": "code",
   "execution_count": null,
   "metadata": {},
   "outputs": [],
   "source": [
    "#  Importing the dataset\n",
    "dataset = pd.read_csv('archive/tweets.csv', encoding='utf-8', header='infer')\n",
    "# Print the first 5 rows of the dataframe\n",
    "print(dataset.head())\n",
    "\n",
    "# Print the shape of the dataframe\n",
    "print(dataset.shape)\n",
    "# Print information about the dataframe\n",
    "print(dataset.info())\n"
   ]
  },
  {
   "cell_type": "code",
   "execution_count": null,
   "metadata": {},
   "outputs": [],
   "source": [
    "dataset_en = dataset[dataset['language'] == 'en'].copy()\n",
    "\n",
    "# Print the shape of the dataframe with only english tweets (189626, 11)\n",
    "print(dataset_en.shape)\n",
    "\n",
    "# Transform the date column to datetime format\n",
    "dataset_en['date'] = pd.to_datetime(dataset_en['date'])\n",
    "\n",
    "# Transform the format of the date column\n",
    "dataset_en['date'] = dataset_en['date'].dt.strftime('%Y-%m-%d %H:%M:%S')\n",
    "\n",
    "# Print the first 5 rows of the dataframe with only english tweets\n",
    "print(dataset_en.head())"
   ]
  },
  {
   "cell_type": "code",
   "execution_count": null,
   "metadata": {},
   "outputs": [],
   "source": [
    "print(dataset_en['content'][1])"
   ]
  },
  {
   "cell_type": "code",
   "execution_count": null,
   "metadata": {},
   "outputs": [],
   "source": [
    "def clean_text(text):\n",
    "    text = re.sub(f\"http\\S+\", \"\", text)  # Remove links\n",
    "    text = re.sub(f\"[^\\w\\d\\s]+\", \"\", text)  # Remove punctuation\n",
    "    text = text.lower()  # Convert to lowercase\n",
    "    text = text.split()  # Split into words\n",
    "    stops = set(stopwords.words(\"english\"))  # Get stopwords\n",
    "    text = [w for w in text if not w in stops]  # Remove stopwords\n",
    "    lemmatizer = WordNetLemmatizer()\n",
    "    text = [lemmatizer.lemmatize(word) for word in text]  # Lemmatize words\n",
    "    text = \" \".join(text)  # Join words back into a string\n",
    "    return text\n",
    "dataset_en['content'] =  dataset_en['content'].astype(str)\n",
    "dataset_en['content'] = dataset_en['content'].apply(clean_text)\n"
   ]
  },
  {
   "cell_type": "code",
   "execution_count": null,
   "metadata": {},
   "outputs": [],
   "source": [
    "# Print the first 5 rows of the dataframe with only english tweets\n",
    "print(dataset_en['content'][1])"
   ]
  },
  {
   "cell_type": "code",
   "execution_count": null,
   "metadata": {},
   "outputs": [],
   "source": [
    "# %pip install -U nltk\n",
    "# %pip install -U spacy\n",
    "\n",
    "!python -m spacy download en_core_web_lg"
   ]
  },
  {
   "cell_type": "code",
   "execution_count": null,
   "metadata": {},
   "outputs": [],
   "source": [
    "# SPACY NLP TAGGER\n",
    "import spacy\n",
    "\n",
    "# Load the large english model\n",
    "nlp = spacy.load('en_core_web_lg')\n",
    "\n",
    "# Create a function to get the pos tag of each word\n",
    "def get_pos_tag(text):\n",
    "    doc = nlp(text)\n",
    "    pos_tagged = []\n",
    "    for token in doc:\n",
    "        pos_tagged.append((token.text, token.pos_))\n",
    "    return pos_tagged\n",
    "\n",
    "# Apply the function to the content column\n",
    "dataset_en['content'] = dataset_en['content'].apply(lambda x: get_pos_tag(x))\n",
    "\n",
    "\n",
    "# Create a function to get the wordnet pos tag of each word\n",
    "# def get_wordnet_pos(pos_tag):\n",
    "#     if pos_tag.startswith('J'):\n",
    "#         return wordnet.ADJ\n",
    "#     elif pos_tag.startswith('V'):\n",
    "#         return wordnet.VERB\n",
    "#     elif pos_tag.startswith('N'):\n",
    "#         return wordnet.NOUN\n",
    "#     elif pos_tag.startswith('R'):\n",
    "#         return wordnet.ADV\n",
    "#     else:\n",
    "#         return wordnet.NOUN # We will use NOUN as default\n"
   ]
  },
  {
   "cell_type": "code",
   "execution_count": null,
   "metadata": {},
   "outputs": [],
   "source": [
    "# Print the result\n",
    "print(dataset_en['content'][1])"
   ]
  },
  {
   "cell_type": "code",
   "execution_count": null,
   "metadata": {},
   "outputs": [],
   "source": [
    "# Stanford NER \n",
    "java_path = 'C:\\\\Program Files (x86)\\\\Java\\\\jre1.8.0_361\\\\bin\\\\java.exe'\n",
    "os.environ['JAVAHOME'] = java_path\n",
    "\n",
    "from nltk.tag.stanford import StanfordNERTagger\n",
    "\n",
    "# Specify the path to the jar file and the model file\n",
    "model_path = 'stanford-ner.jar'\n",
    "ner_path ='english.conll.4class.distsim.crf.ser.gz'\n",
    "\n",
    "# Create a tagger object\n",
    "tagger = StanfordNERTagger(ner_path, model_path, encoding='utf-8')\n",
    "\n",
    "# Tag named entities in all tweets\n",
    "tagged_tweets = [tagger.tag(tweet.split()) for tweet in dataset_en['content']]\n",
    "\n",
    "# Print the first 5 rows of the tagged tweets\n",
    "print(tagged_tweets[:5])"
   ]
  },
  {
   "cell_type": "code",
   "execution_count": null,
   "metadata": {},
   "outputs": [],
   "source": [
    "# Barplot of the tweets per day\n",
    "plt.figure(figsize=(10, 5))\n",
    "\n",
    "sns.countplot(x='date', data=dataset_en, palette='hls')\n",
    "plt.xticks(rotation=90)\n",
    "plt.xlabel('Date', fontsize=15)\n",
    "plt.ylabel('Number of tweets', fontsize=15)\n",
    "plt.title('Tweets per day', fontsize=20)\n",
    "plt.show()\n",
    "\n",
    "# Distribution of the tweets per hour\n",
    "plt.figure(figsize=(10, 5))\n",
    "\n",
    "sns.countplot(x=dataset_en['date'].str[11:13], data=dataset_en, palette='hls')\n",
    "plt.xlabel('Hour', fontsize=15)\n",
    "plt.ylabel('Number of tweets', fontsize=15)\n",
    "plt.title('Tweets per hour', fontsize=20)\n",
    "plt.show()\n"
   ]
  },
  {
   "cell_type": "code",
   "execution_count": null,
   "metadata": {},
   "outputs": [],
   "source": [
    "# PREPROCESSING TO-DO LIST: \n",
    "#\n",
    "# 1. Change like_count to int\n",
    "# 2. Change retweet_count to int\n",
    "# 3. Change date format\n",
    "# 4. Move time into a new column\n",
    "# 5. Translate the text to English\n",
    "# 6. Remove the rows with no text\n",
    "# 7. Remove the rows with no hashtags\n",
    "# 8. Remove the rows with no mentions\n",
    "# 9. Remove the rows with no links\n",
    "# 10. Remove the rows with no media\n",
    "# 11. Remove the rows with no retweet_count\n",
    "\n",
    "# CONSIDERATIONS:\n",
    "# 1. Retweets are important to consider because they are a form of engagement (do not consider tweets with no retweets, but consider retweets as a further request for help)\n"
   ]
  }
 ],
 "metadata": {
  "language_info": {
   "name": "python"
  }
 },
 "nbformat": 4,
 "nbformat_minor": 2
}
